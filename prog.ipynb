{
 "cells": [
  {
   "cell_type": "code",
   "execution_count": 1,
   "metadata": {},
   "outputs": [],
   "source": [
    "from python_speech_features import mfcc\n",
    "import scipy.io.wavfile as wav\n",
    "import numpy as np\n",
    "\n",
    "from tempfile import TemporaryFile\n",
    "import os\n",
    "import pickle\n",
    "import random\n",
    "import operator\n",
    "\n",
    "import math"
   ]
  },
  {
   "cell_type": "code",
   "execution_count": 19,
   "metadata": {},
   "outputs": [],
   "source": [
    "def distance (inst1, inst2, k) :\n",
    "    dist = 0\n",
    "    mm1 = inst1[0]\n",
    "    cm1 = inst1[1]\n",
    "    mm2 = inst2[0]\n",
    "    cm2 = inst2[1]\n",
    "    dist = np.trace(np.dot(np.linalg.inv(cm2), cm1))\n",
    "    dist += (np.dot(np.dot((mm2-mm1).transpose(), np.linalg.inv(cm2)), mm2-mm1))\n",
    "    dist += np.log(np.linalg.det(cm2)) - np.log(np.linalg.det(cm1))\n",
    "    dist -= k\n",
    "    return dist"
   ]
  },
  {
   "cell_type": "code",
   "execution_count": 21,
   "metadata": {},
   "outputs": [],
   "source": [
    "def get_neighbors (x_test, inst, k) :\n",
    "    dist = []\n",
    "    for x in range(len(x_test)) :\n",
    "        val = distance(x_test[x], inst, k) + distance(inst, x_test[x], k)\n",
    "        dist.append((x_test[x][2], val))\n",
    "    dist.sort(key=lambda x: x[1])\n",
    "    neighbors_list = []\n",
    "    for x in range(k) :\n",
    "        neighbors_list.append(dist[x][0])\n",
    "    return neighbors_list"
   ]
  },
  {
   "cell_type": "code",
   "execution_count": 27,
   "metadata": {},
   "outputs": [],
   "source": [
    "def nearest_neighbors(neighbors_list) :\n",
    "    arr = {}\n",
    "    \n",
    "    for x in range(len(neighbors_list)) :\n",
    "        val = neighbors_list[x]\n",
    "        if val in arr :\n",
    "            arr[val] += 1\n",
    "        else :\n",
    "            arr[val] = 1\n",
    "        \n",
    "    sorter = sorted(arr.items(), key=operator.itemgetter(1), reverse=True)\n",
    "    return sorter[0][0]"
   ]
  },
  {
   "cell_type": "code",
   "execution_count": 4,
   "metadata": {},
   "outputs": [],
   "source": [
    "def model_accuracy(y_test, y_predict) :\n",
    "    correct = 0\n",
    "    for x in range(len(y_test)) :\n",
    "        if y_test[x][-1] == y_predict[x] :\n",
    "            correct += 1\n",
    "    \n",
    "    return 1.0 * correct / len(y_test)"
   ]
  },
  {
   "cell_type": "code",
   "execution_count": 9,
   "metadata": {},
   "outputs": [
    {
     "name": "stdout",
     "output_type": "stream",
     "text": [
      "exception:  File format b'\\xcb\\x15\\x1e\\x16' not understood. Only 'RIFF' and 'RIFX' supported. in folder:  jazz in file:  jazz.00054.wav\n"
     ]
    }
   ],
   "source": [
    "dataset_path = \"./archive/Data/genres_original/\"\n",
    "dataset_file = open(\"extracted_data.dat\", 'wb')\n",
    "i = 0\n",
    "\n",
    "for folder in os.listdir(dataset_path) :\n",
    "    i += 1\n",
    "    if i == 11 :\n",
    "        break\n",
    "    for file in os.listdir(dataset_path + folder) :\n",
    "        try :\n",
    "            (rate, sig) = wav.read(dataset_path + folder + \"/\" + file)\n",
    "            mfcc_feat = mfcc(sig, rate, winlen = 0.020, appendEnergy=False)\n",
    "            covariance = np.cov(np.matrix.transpose(mfcc_feat))\n",
    "            mean_matrix = mfcc_feat.mean(0)\n",
    "            feature = (mean_matrix, covariance, i)\n",
    "            pickle.dump(feature, dataset_file)\n",
    "        except Exception as e :\n",
    "            print(\"exception: \",e,\"in folder: \", folder, \"in file: \", file)\n",
    "\n",
    "dataset_file.close() "
   ]
  },
  {
   "cell_type": "code",
   "execution_count": 13,
   "metadata": {},
   "outputs": [],
   "source": [
    "dataset = []\n",
    "def load_dataset (filename, split, train_set, test_set) :\n",
    "    with open(\"extracted_data.dat\", 'rb') as file :\n",
    "        while True :\n",
    "            try :\n",
    "                dataset.append(pickle.load(file))\n",
    "            except EOFError :\n",
    "                file.close()\n",
    "                break\n",
    "            \n",
    "    for x in dataset :\n",
    "        if random.random() < split :\n",
    "            train_set.append(x)\n",
    "        else :\n",
    "            test_set.append(x)\n",
    "\n",
    "train_set = []\n",
    "test_set = []\n",
    "load_dataset(\"extracted_data.dat\", 0.66, train_set, test_set)"
   ]
  },
  {
   "cell_type": "code",
   "execution_count": 28,
   "metadata": {},
   "outputs": [
    {
     "name": "stdout",
     "output_type": "stream",
     "text": [
      "0.8244514106583072\n"
     ]
    }
   ],
   "source": [
    "length = len(test_set)\n",
    "predict = []\n",
    "for x in range(len(test_set)) :\n",
    "    predict.append(nearest_neighbors(get_neighbors(test_set, test_set[x], 5)))\n",
    "    \n",
    "accuracy = model_accuracy(test_set, predict)\n",
    "print(accuracy)"
   ]
  }
 ],
 "metadata": {
  "interpreter": {
   "hash": "c5e48f84046969b800ff52f6d80523bcd1ca3fb1a99f1449e4197bf6c73dc096"
  },
  "kernelspec": {
   "display_name": "Python 3.9.7 ('base')",
   "language": "python",
   "name": "python3"
  },
  "language_info": {
   "codemirror_mode": {
    "name": "ipython",
    "version": 3
   },
   "file_extension": ".py",
   "mimetype": "text/x-python",
   "name": "python",
   "nbconvert_exporter": "python",
   "pygments_lexer": "ipython3",
   "version": "3.9.7"
  },
  "orig_nbformat": 4
 },
 "nbformat": 4,
 "nbformat_minor": 2
}
