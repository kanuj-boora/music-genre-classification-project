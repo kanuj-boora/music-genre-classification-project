{
 "cells": [
  {
   "cell_type": "code",
   "execution_count": 5,
   "metadata": {},
   "outputs": [],
   "source": [
    "from python_speech_features import mfcc\n",
    "import scipy\n",
    "import scipy.io.wavfile as wav\n",
    "import numpy as np\n",
    "import librosa\n",
    "import pandas as pd\n",
    "\n",
    "from tempfile import TemporaryFile\n",
    "import os\n",
    "import pickle\n",
    "import random\n",
    "import operator\n",
    "\n",
    "import math"
   ]
  },
  {
   "cell_type": "code",
   "execution_count": 37,
   "metadata": {},
   "outputs": [],
   "source": [
    "def distance (inst1, inst2) :\n",
    "    dist = 0\n",
    "    # mm1 = inst1[0]\n",
    "    # cm1 = inst1[1]\n",
    "    # mm2 = inst2[0]\n",
    "    # cm2 = inst2[1]\n",
    "    # dist = np.trace(np.dot(np.linalg.inv(cm2), cm1))\n",
    "    # dist += (np.dot(np.dot((mm2-mm1).transpose(), np.linalg.inv(cm2)), mm2-mm1))\n",
    "    # dist += np.log(np.linalg.det(cm2)) - np.log(np.linalg.det(cm1))\n",
    "    # dist -= k\n",
    "    x = inst1[0]\n",
    "    y = inst2[0]\n",
    "    dist = np.linalg.norm(x-y)\n",
    "    # dist = np.dot(inst1[0],inst2[0])/(np.linalg.norm(inst1[0])*np.linalg.norm(inst2[0]))\n",
    "    return dist"
   ]
  },
  {
   "cell_type": "code",
   "execution_count": 33,
   "metadata": {},
   "outputs": [],
   "source": [
    "def get_neighbors (x_test, inst, k) :\n",
    "    dist = []\n",
    "    for x in range(len(x_test)) :\n",
    "        val = distance(x_test[x], inst)\n",
    "        dist.append((x_test[x][1], val))\n",
    "    dist.sort(key=lambda x: x[1])\n",
    "    neighbors_list = []\n",
    "    for x in range(k) :\n",
    "        neighbors_list.append(dist[x][0])\n",
    "    return neighbors_list"
   ]
  },
  {
   "cell_type": "code",
   "execution_count": 8,
   "metadata": {},
   "outputs": [],
   "source": [
    "def nearest_neighbors(neighbors_list) :\n",
    "    class_count = {}\n",
    "    \n",
    "    for x in range(len(neighbors_list)) :\n",
    "        val = neighbors_list[x]\n",
    "        if val in class_count :\n",
    "            class_count[val] += 1\n",
    "        else :\n",
    "            class_count[val] = 1\n",
    "        \n",
    "    sorter = sorted(class_count.items(), key=operator.itemgetter(1), reverse=True)\n",
    "    return sorter[0][0]"
   ]
  },
  {
   "cell_type": "code",
   "execution_count": 9,
   "metadata": {},
   "outputs": [],
   "source": [
    "def model_accuracy(y_test, y_predict) :\n",
    "    correct = 0\n",
    "    for x in range(len(y_test)) :\n",
    "        if y_test[x][-1] == y_predict[x] :\n",
    "            correct += 1\n",
    "    \n",
    "    return 1.0 * correct / len(y_test)"
   ]
  },
  {
   "cell_type": "code",
   "execution_count": 10,
   "metadata": {},
   "outputs": [],
   "source": [
    "def feature_extractor(file) :\n",
    "    audio, sample_rate = librosa.load(file)\n",
    "    mfcc_features = librosa.feature.mfcc(y=audio, sr=sample_rate, n_mfcc=40)\n",
    "    mfcc_scaled_features = np.mean(mfcc_features.T, axis=0)\n",
    "    \n",
    "    return mfcc_scaled_features"
   ]
  },
  {
   "cell_type": "code",
   "execution_count": 16,
   "metadata": {},
   "outputs": [
    {
     "name": "stderr",
     "output_type": "stream",
     "text": [
      "C:\\Users\\Lenovo\\anaconda3\\lib\\site-packages\\librosa\\util\\decorators.py:88: UserWarning: PySoundFile failed. Trying audioread instead.\n",
      "  return f(*args, **kwargs)\n"
     ]
    },
    {
     "name": "stdout",
     "output_type": "stream",
     "text": [
      "exception:   in folder:  jazz in file:  jazz.00054.wav\n"
     ]
    }
   ],
   "source": [
    "dataset_path = \"./archive/Data/genres_original/\"\n",
    "dataset_file = open(\"extracted_data.dat\", 'wb')\n",
    "i = 0\n",
    "\n",
    "for folder in os.listdir(dataset_path) :\n",
    "    i += 1\n",
    "    if i == 11 :\n",
    "        break\n",
    "    for file in os.listdir(dataset_path + folder) :\n",
    "        try :\n",
    "            # (rate, sig) = wav.read(dataset_path + folder + \"/\" + file)\n",
    "            # mfcc_feat = mfcc(sig, rate, winlen = 0.020, appendEnergy=False)\n",
    "            # covariance = np.cov(np.matrix.transpose(mfcc_feat))\n",
    "            # mean_matrix = mfcc_feat.mean(0)\n",
    "            # feature = (mean_matrix, covariance, i)\n",
    "            file_name = dataset_path + folder + \"/\" + file\n",
    "            # print(file_name)\n",
    "            feature = (feature_extractor(file_name), i)\n",
    "            pickle.dump(feature, dataset_file)\n",
    "        except Exception as e :\n",
    "            print(\"exception: \",e,\"in folder: \", folder, \"in file: \", file)\n",
    "\n",
    "dataset_file.close() "
   ]
  },
  {
   "cell_type": "code",
   "execution_count": 73,
   "metadata": {},
   "outputs": [
    {
     "data": {
      "text/html": [
       "<div>\n",
       "<style scoped>\n",
       "    .dataframe tbody tr th:only-of-type {\n",
       "        vertical-align: middle;\n",
       "    }\n",
       "\n",
       "    .dataframe tbody tr th {\n",
       "        vertical-align: top;\n",
       "    }\n",
       "\n",
       "    .dataframe thead th {\n",
       "        text-align: right;\n",
       "    }\n",
       "</style>\n",
       "<table border=\"1\" class=\"dataframe\">\n",
       "  <thead>\n",
       "    <tr style=\"text-align: right;\">\n",
       "      <th></th>\n",
       "      <th>features</th>\n",
       "      <th>class</th>\n",
       "    </tr>\n",
       "  </thead>\n",
       "  <tbody>\n",
       "    <tr>\n",
       "      <th>0</th>\n",
       "      <td>[-113.59882, 121.57067, -19.162262, 42.36394, ...</td>\n",
       "      <td>1</td>\n",
       "    </tr>\n",
       "    <tr>\n",
       "      <th>1</th>\n",
       "      <td>[-207.52383, 123.98514, 8.947019, 35.86715, 2....</td>\n",
       "      <td>1</td>\n",
       "    </tr>\n",
       "    <tr>\n",
       "      <th>2</th>\n",
       "      <td>[-90.757164, 140.44087, -29.084547, 31.686691,...</td>\n",
       "      <td>1</td>\n",
       "    </tr>\n",
       "    <tr>\n",
       "      <th>3</th>\n",
       "      <td>[-199.57513, 150.0861, 5.663404, 26.855282, 1....</td>\n",
       "      <td>1</td>\n",
       "    </tr>\n",
       "    <tr>\n",
       "      <th>4</th>\n",
       "      <td>[-160.35417, 126.20948, -35.581394, 22.139256,...</td>\n",
       "      <td>1</td>\n",
       "    </tr>\n",
       "    <tr>\n",
       "      <th>5</th>\n",
       "      <td>[-177.80176, 118.20316, -17.57063, 30.760931, ...</td>\n",
       "      <td>1</td>\n",
       "    </tr>\n",
       "    <tr>\n",
       "      <th>6</th>\n",
       "      <td>[-190.06882, 130.27023, -36.362114, 33.036217,...</td>\n",
       "      <td>1</td>\n",
       "    </tr>\n",
       "    <tr>\n",
       "      <th>7</th>\n",
       "      <td>[-179.3723, 136.44833, -26.662588, 39.96545, 5...</td>\n",
       "      <td>1</td>\n",
       "    </tr>\n",
       "    <tr>\n",
       "      <th>8</th>\n",
       "      <td>[-121.38979, 122.49833, -14.734729, 46.122135,...</td>\n",
       "      <td>1</td>\n",
       "    </tr>\n",
       "    <tr>\n",
       "      <th>9</th>\n",
       "      <td>[-213.26424, 115.16476, -11.69817, 39.015358, ...</td>\n",
       "      <td>1</td>\n",
       "    </tr>\n",
       "  </tbody>\n",
       "</table>\n",
       "</div>"
      ],
      "text/plain": [
       "                                            features  class\n",
       "0  [-113.59882, 121.57067, -19.162262, 42.36394, ...      1\n",
       "1  [-207.52383, 123.98514, 8.947019, 35.86715, 2....      1\n",
       "2  [-90.757164, 140.44087, -29.084547, 31.686691,...      1\n",
       "3  [-199.57513, 150.0861, 5.663404, 26.855282, 1....      1\n",
       "4  [-160.35417, 126.20948, -35.581394, 22.139256,...      1\n",
       "5  [-177.80176, 118.20316, -17.57063, 30.760931, ...      1\n",
       "6  [-190.06882, 130.27023, -36.362114, 33.036217,...      1\n",
       "7  [-179.3723, 136.44833, -26.662588, 39.96545, 5...      1\n",
       "8  [-121.38979, 122.49833, -14.734729, 46.122135,...      1\n",
       "9  [-213.26424, 115.16476, -11.69817, 39.015358, ...      1"
      ]
     },
     "execution_count": 73,
     "metadata": {},
     "output_type": "execute_result"
    }
   ],
   "source": [
    "dataset = []\n",
    "def load_dataset (filename, split, train_set, test_set) :\n",
    "    with open(\"extracted_data.dat\", 'rb') as file :\n",
    "        while True :\n",
    "            try :\n",
    "                dataset.append(pickle.load(file))\n",
    "            except EOFError :\n",
    "                file.close()\n",
    "                break\n",
    "            \n",
    "    for x in dataset :\n",
    "        if random.random() < split :\n",
    "            train_set.append(x)\n",
    "        else :\n",
    "            test_set.append(x)\n",
    "\n",
    "\n",
    "\n",
    "train_set = []\n",
    "test_set = []\n",
    "load_dataset(\"extracted_data.dat\", 0.66, train_set, test_set)\n",
    "# print(test_set)\n",
    "feature_df = pd.DataFrame(dataset, columns=['features','class'])\n",
    "feature_df.head(10)"
   ]
  },
  {
   "cell_type": "code",
   "execution_count": 75,
   "metadata": {},
   "outputs": [
    {
     "name": "stdout",
     "output_type": "stream",
     "text": [
      "[[27  0  1  0  0  0  1  0  0  0]\n",
      " [ 0 20  0  0  0  2  0  0  0  0]\n",
      " [ 5  2 29  2  3  2  0  2  3  1]\n",
      " [ 0  0  0 12  0  1  1  0  0  1]\n",
      " [ 0  0  0  2 22  0  0  0  2  1]\n",
      " [ 2  3  5  2  1 31  1  3  4  1]\n",
      " [ 2  0  0  1  0  0 25  0  0  1]\n",
      " [ 0  0  0  2  2  0  0 23  1  0]\n",
      " [ 0  1  2  3  1  2  0  1 21  1]\n",
      " [ 1  0  4  5  0  1  2  2  2 36]]\n",
      "0.7299703264094956\n"
     ]
    }
   ],
   "source": [
    "length = len(test_set)\n",
    "predict = []\n",
    "for x in range(len(test_set)) :\n",
    "    predict.append(nearest_neighbors(get_neighbors(test_set, test_set[x], 5)))\n",
    "# print(predict)\n",
    "# print(len(test_set))\n",
    "accuracy = model_accuracy(test_set, predict)\n",
    "test_set_class = pd.DataFrame(test_set, columns = ['features','class'])\n",
    "test_set_class = test_set_class['class']\n",
    "\n",
    "from sklearn.metrics import confusion_matrix\n",
    "con_met = confusion_matrix(predict, test_set_class)\n",
    "print(con_met)\n",
    "print(accuracy)"
   ]
  },
  {
   "cell_type": "code",
   "execution_count": 40,
   "metadata": {},
   "outputs": [],
   "source": [
    "from collections import defaultdict\n",
    "results = defaultdict(int)\n",
    "\n",
    "directory = \"./archive/Data/genres_original\"\n",
    "\n",
    "i = 1\n",
    "for folder in os.listdir(directory):\n",
    "    results[i] = folder\n",
    "    i += 1"
   ]
  },
  {
   "cell_type": "code",
   "execution_count": 70,
   "metadata": {},
   "outputs": [
    {
     "name": "stdout",
     "output_type": "stream",
     "text": [
      "[-52.940296    50.09013    -11.491269    46.324932     6.5430007\n",
      "  10.116378     5.4855285    8.844898     5.9299426    6.625154\n",
      "  -4.0330343    9.778293    -3.1172316    3.653597    -6.502195\n",
      "   1.0854731   -4.482196     4.709674    -2.755327     0.4985645\n",
      "  -9.29338      2.0262656   -3.4876702    2.5047514   -4.658039\n",
      "  -1.8967493   -5.6836166   -3.1856866   -4.818261     0.85869867\n",
      "  -5.738822    -0.4105425   -5.2758536    0.46732435  -0.6027184\n",
      "  -0.65776074  -2.4302607    1.9490243   -4.047967    -2.8445647 ]\n",
      "pop\n"
     ]
    }
   ],
   "source": [
    "test_file = \"./metal.00000.wav\"\n",
    "test_file_feature = feature_extractor(test_file)\n",
    "print(test_file_feature)\n",
    "test_pred = nearest_neighbors(get_neighbors(dataset, test_file_feature, 100))\n",
    "# test_pred = nearest_neighbors(get_neighbors(dataset, feature, 5))\n",
    "print(results[test_pred])"
   ]
  }
 ],
 "metadata": {
  "interpreter": {
   "hash": "c5e48f84046969b800ff52f6d80523bcd1ca3fb1a99f1449e4197bf6c73dc096"
  },
  "kernelspec": {
   "display_name": "Python 3.9.7 ('base')",
   "language": "python",
   "name": "python3"
  },
  "language_info": {
   "codemirror_mode": {
    "name": "ipython",
    "version": 3
   },
   "file_extension": ".py",
   "mimetype": "text/x-python",
   "name": "python",
   "nbconvert_exporter": "python",
   "pygments_lexer": "ipython3",
   "version": "3.9.7"
  },
  "orig_nbformat": 4
 },
 "nbformat": 4,
 "nbformat_minor": 2
}
